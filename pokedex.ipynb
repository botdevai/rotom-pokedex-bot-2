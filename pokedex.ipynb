{
 "cells": [
  {
   "cell_type": "code",
   "execution_count": 1,
   "metadata": {},
   "outputs": [],
   "source": [
    "from pokedex.db import connect, tables, util\n",
    "from pokedex.lookup import PokedexLookup"
   ]
  },
  {
   "cell_type": "code",
   "execution_count": 2,
   "metadata": {},
   "outputs": [],
   "source": [
    "import logging\n",
    "\n",
    "logging.getLogger('sqlalchemy.engine').setLevel(logging.INFO)\n",
    "logging.basicConfig(level=logging.INFO)"
   ]
  },
  {
   "cell_type": "code",
   "execution_count": 3,
   "metadata": {},
   "outputs": [
    {
     "name": "stderr",
     "output_type": "stream",
     "text": [
      "INFO:sqlalchemy.engine.base.Engine:SELECT CAST('test plain returns' AS VARCHAR(60)) AS anon_1\n",
      "INFO:sqlalchemy.engine.base.Engine:()\n",
      "INFO:sqlalchemy.engine.base.Engine:SELECT CAST('test unicode returns' AS VARCHAR(60)) AS anon_1\n",
      "INFO:sqlalchemy.engine.base.Engine:()\n"
     ]
    }
   ],
   "source": [
    "session = connect()"
   ]
  },
  {
   "cell_type": "code",
   "execution_count": 4,
   "metadata": {
    "scrolled": true
   },
   "outputs": [],
   "source": [
    "lookup = PokedexLookup(session=session)"
   ]
  },
  {
   "cell_type": "code",
   "execution_count": 5,
   "metadata": {},
   "outputs": [
    {
     "name": "stderr",
     "output_type": "stream",
     "text": [
      "INFO:sqlalchemy.engine.base.Engine:BEGIN (implicit)\n",
      "INFO:sqlalchemy.engine.base.Engine:SELECT languages.id AS languages_id, languages.iso639 AS languages_iso639, languages.iso3166 AS languages_iso3166, languages.identifier AS languages_identifier, languages.official AS languages_official, languages.\"order\" AS languages_order \n",
      "FROM languages \n",
      "WHERE languages.id = ?\n",
      "INFO:sqlalchemy.engine.base.Engine:(9,)\n",
      "INFO:sqlalchemy.engine.base.Engine:SELECT languages.id AS languages_id, languages.iso639 AS languages_iso639, languages.iso3166 AS languages_iso3166, languages.identifier AS languages_identifier, languages.official AS languages_official, languages.\"order\" AS languages_order \n",
      "FROM languages\n",
      "INFO:sqlalchemy.engine.base.Engine:()\n",
      "INFO:sqlalchemy.engine.base.Engine:SELECT pokemon_forms.id AS pokemon_forms_id, pokemon_forms.identifier AS pokemon_forms_identifier, pokemon_forms.form_identifier AS pokemon_forms_form_identifier, pokemon_forms.pokemon_id AS pokemon_forms_pokemon_id, pokemon_forms.introduced_in_version_group_id AS pokemon_forms_introduced_in_version_group_id, pokemon_forms.is_default AS pokemon_forms_is_default, pokemon_forms.is_battle_only AS pokemon_forms_is_battle_only, pokemon_forms.is_mega AS pokemon_forms_is_mega, pokemon_forms.form_order AS pokemon_forms_form_order, pokemon_forms.\"order\" AS pokemon_forms_order, pokemon_form_names_1.pokemon_form_id AS pokemon_form_names_1_pokemon_form_id, pokemon_form_names_1.local_language_id AS pokemon_form_names_1_local_language_id, pokemon_form_names_1.form_name AS pokemon_form_names_1_form_name, pokemon_form_names_1.pokemon_name AS pokemon_form_names_1_pokemon_name, pokemon_1.id AS pokemon_1_id, pokemon_1.identifier AS pokemon_1_identifier, pokemon_1.species_id AS pokemon_1_species_id, pokemon_1.height AS pokemon_1_height, pokemon_1.weight AS pokemon_1_weight, pokemon_1.base_experience AS pokemon_1_base_experience, pokemon_1.\"order\" AS pokemon_1_order, pokemon_1.is_default AS pokemon_1_is_default, types_1.id AS types_1_id, types_1.identifier AS types_1_identifier, types_1.generation_id AS types_1_generation_id, types_1.damage_class_id AS types_1_damage_class_id, type_names_1.type_id AS type_names_1_type_id, type_names_1.local_language_id AS type_names_1_local_language_id, type_names_1.name AS type_names_1_name \n",
      "FROM pokemon_forms LEFT OUTER JOIN pokemon_form_names AS pokemon_form_names_1 ON pokemon_form_names_1.pokemon_form_id = pokemon_forms.id AND pokemon_form_names_1.local_language_id = ? JOIN pokemon AS pokemon_1 ON pokemon_forms.pokemon_id = pokemon_1.id JOIN pokemon_types AS pokemon_types_1 ON pokemon_1.id = pokemon_types_1.pokemon_id JOIN types AS types_1 ON types_1.id = pokemon_types_1.type_id LEFT OUTER JOIN type_names AS type_names_1 ON type_names_1.type_id = types_1.id AND type_names_1.local_language_id = ? \n",
      "WHERE pokemon_forms.id = ? ORDER BY pokemon_types_1.slot ASC\n",
      "INFO:sqlalchemy.engine.base.Engine:(9, 9, '10134')\n",
      "INFO:sqlalchemy.engine.base.Engine:SELECT pokemon_forms.id AS pokemon_forms_id, pokemon_forms.identifier AS pokemon_forms_identifier, pokemon_forms.form_identifier AS pokemon_forms_form_identifier, pokemon_forms.pokemon_id AS pokemon_forms_pokemon_id, pokemon_forms.introduced_in_version_group_id AS pokemon_forms_introduced_in_version_group_id, pokemon_forms.is_default AS pokemon_forms_is_default, pokemon_forms.is_battle_only AS pokemon_forms_is_battle_only, pokemon_forms.is_mega AS pokemon_forms_is_mega, pokemon_forms.form_order AS pokemon_forms_form_order, pokemon_forms.\"order\" AS pokemon_forms_order, pokemon_form_names_1.pokemon_form_id AS pokemon_form_names_1_pokemon_form_id, pokemon_form_names_1.local_language_id AS pokemon_form_names_1_local_language_id, pokemon_form_names_1.form_name AS pokemon_form_names_1_form_name, pokemon_form_names_1.pokemon_name AS pokemon_form_names_1_pokemon_name, pokemon_1.id AS pokemon_1_id, pokemon_1.identifier AS pokemon_1_identifier, pokemon_1.species_id AS pokemon_1_species_id, pokemon_1.height AS pokemon_1_height, pokemon_1.weight AS pokemon_1_weight, pokemon_1.base_experience AS pokemon_1_base_experience, pokemon_1.\"order\" AS pokemon_1_order, pokemon_1.is_default AS pokemon_1_is_default, types_1.id AS types_1_id, types_1.identifier AS types_1_identifier, types_1.generation_id AS types_1_generation_id, types_1.damage_class_id AS types_1_damage_class_id, type_names_1.type_id AS type_names_1_type_id, type_names_1.local_language_id AS type_names_1_local_language_id, type_names_1.name AS type_names_1_name \n",
      "FROM pokemon_forms LEFT OUTER JOIN pokemon_form_names AS pokemon_form_names_1 ON pokemon_form_names_1.pokemon_form_id = pokemon_forms.id AND pokemon_form_names_1.local_language_id = ? JOIN pokemon AS pokemon_1 ON pokemon_forms.pokemon_id = pokemon_1.id JOIN pokemon_types AS pokemon_types_1 ON pokemon_1.id = pokemon_types_1.pokemon_id JOIN types AS types_1 ON types_1.id = pokemon_types_1.type_id LEFT OUTER JOIN type_names AS type_names_1 ON type_names_1.type_id = types_1.id AND type_names_1.local_language_id = ? \n",
      "WHERE pokemon_forms.id = ? ORDER BY pokemon_types_1.slot ASC\n",
      "INFO:sqlalchemy.engine.base.Engine:(9, 9, '10135')\n"
     ]
    },
    {
     "data": {
      "text/plain": [
       "[LookupResult(object=<pokedex.db.tables.PokemonForm object (10134): charizard-mega-x>, indexed_name='mega charizard x', name='Mega Charizard X', language=<pokedex.db.tables.Language object (9): en>, iso639='en', iso3166='us', exact=False),\n",
       " LookupResult(object=<pokedex.db.tables.PokemonForm object (10135): charizard-mega-y>, indexed_name='mega charizard y', name='Mega Charizard Y', language=<pokedex.db.tables.Language object (9): en>, iso639='en', iso3166='us', exact=False)]"
      ]
     },
     "execution_count": 5,
     "metadata": {},
     "output_type": "execute_result"
    }
   ],
   "source": [
    "result = lookup.lookup('mega charizard')\n",
    "result"
   ]
  },
  {
   "cell_type": "code",
   "execution_count": 5,
   "metadata": {},
   "outputs": [
    {
     "data": {
      "text/plain": [
       "<pokedex.db.tables.PokemonSpecies object (133): eevee>"
      ]
     },
     "execution_count": 5,
     "metadata": {},
     "output_type": "execute_result"
    }
   ],
   "source": [
    "eevee = result[0].object\n",
    "eevee"
   ]
  },
  {
   "cell_type": "code",
   "execution_count": 38,
   "metadata": {},
   "outputs": [
    {
     "data": {
      "text/plain": [
       "['__class__',\n",
       " '__delattr__',\n",
       " '__dict__',\n",
       " '__doc__',\n",
       " '__format__',\n",
       " '__getattribute__',\n",
       " '__hash__',\n",
       " '__init__',\n",
       " '__mapper__',\n",
       " '__module__',\n",
       " '__new__',\n",
       " '__reduce__',\n",
       " '__reduce_ex__',\n",
       " '__repr__',\n",
       " '__setattr__',\n",
       " '__sizeof__',\n",
       " '__str__',\n",
       " '__subclasshook__',\n",
       " '__table__',\n",
       " '__tablename__',\n",
       " '__unicode__',\n",
       " '__weakref__',\n",
       " '_decl_class_registry',\n",
       " '_sa_class_manager',\n",
       " '_sa_instance_state',\n",
       " 'flavor_text',\n",
       " 'language',\n",
       " 'language_id',\n",
       " 'metadata',\n",
       " 'species',\n",
       " 'species_id',\n",
       " 'summary_column',\n",
       " 'translation_classes',\n",
       " 'version',\n",
       " 'version_id']"
      ]
     },
     "execution_count": 38,
     "metadata": {},
     "output_type": "execute_result"
    }
   ],
   "source": [
    "dir(eevee.flavor_text[0])"
   ]
  },
  {
   "cell_type": "code",
   "execution_count": 14,
   "metadata": {},
   "outputs": [
    {
     "name": "stdout",
     "output_type": "stream",
     "text": [
      "Its genetic code\n",
      "is irregular.\n",
      "It may mutate if\f",
      "it is exposed to\n",
      "radiation from\n",
      "element STONEs.\n"
     ]
    }
   ],
   "source": [
    "print eevee.flavor_text[0].flavor_text"
   ]
  },
  {
   "cell_type": "code",
   "execution_count": 15,
   "metadata": {},
   "outputs": [
    {
     "data": {
      "text/plain": [
       "<pokedex.db.tables.Language object (9): en>"
      ]
     },
     "execution_count": 15,
     "metadata": {},
     "output_type": "execute_result"
    }
   ],
   "source": [
    "eevee.flavor_text[0].language"
   ]
  },
  {
   "cell_type": "code",
   "execution_count": 42,
   "metadata": {},
   "outputs": [
    {
     "data": {
      "text/plain": [
       "{'_sa_instance_state': <sqlalchemy.orm.state.InstanceState at 0x108f76050>,\n",
       " 'flavor_text': u'Its genetic code\\nis irregular.\\nIt may mutate if\\x0cit is exposed to\\nradiation from\\nelement STONEs.',\n",
       " 'language': <pokedex.db.tables.Language object (9): en>,\n",
       " 'language_id': 9,\n",
       " 'species_id': 133,\n",
       " 'version': <pokedex.db.tables.Version object (1): red>,\n",
       " 'version_id': 1}"
      ]
     },
     "execution_count": 42,
     "metadata": {},
     "output_type": "execute_result"
    }
   ],
   "source": [
    "eevee.flavor_text[0].__dict__"
   ]
  },
  {
   "cell_type": "code",
   "execution_count": 16,
   "metadata": {},
   "outputs": [
    {
     "name": "stderr",
     "output_type": "stream",
     "text": [
      "INFO:sqlalchemy.engine.base.Engine:SELECT languages.id AS languages_id, languages.iso639 AS languages_iso639, languages.iso3166 AS languages_iso3166, languages.identifier AS languages_identifier, languages.official AS languages_official, languages.\"order\" AS languages_order \n",
      "FROM languages\n",
      "INFO:sqlalchemy.engine.base.Engine:()\n",
      "INFO:sqlalchemy.engine.base.Engine:SELECT pokemon_species.id AS pokemon_species_id, pokemon_species.identifier AS pokemon_species_identifier, pokemon_species.generation_id AS pokemon_species_generation_id, pokemon_species.evolves_from_species_id AS pokemon_species_evolves_from_species_id, pokemon_species.evolution_chain_id AS pokemon_species_evolution_chain_id, pokemon_species.color_id AS pokemon_species_color_id, pokemon_species.shape_id AS pokemon_species_shape_id, pokemon_species.habitat_id AS pokemon_species_habitat_id, pokemon_species.gender_rate AS pokemon_species_gender_rate, pokemon_species.capture_rate AS pokemon_species_capture_rate, pokemon_species.base_happiness AS pokemon_species_base_happiness, pokemon_species.is_baby AS pokemon_species_is_baby, pokemon_species.hatch_counter AS pokemon_species_hatch_counter, pokemon_species.has_gender_differences AS pokemon_species_has_gender_differences, pokemon_species.growth_rate_id AS pokemon_species_growth_rate_id, pokemon_species.forms_switchable AS pokemon_species_forms_switchable, pokemon_species.\"order\" AS pokemon_species_order, pokemon_species.conquest_order AS pokemon_species_conquest_order, pokemon_species_names_1.pokemon_species_id AS pokemon_species_names_1_pokemon_species_id, pokemon_species_names_1.local_language_id AS pokemon_species_names_1_local_language_id, pokemon_species_names_1.name AS pokemon_species_names_1_name, pokemon_species_names_1.genus AS pokemon_species_names_1_genus, pokemon_1.id AS pokemon_1_id, pokemon_1.identifier AS pokemon_1_identifier, pokemon_1.species_id AS pokemon_1_species_id, pokemon_1.height AS pokemon_1_height, pokemon_1.weight AS pokemon_1_weight, pokemon_1.base_experience AS pokemon_1_base_experience, pokemon_1.\"order\" AS pokemon_1_order, pokemon_1.is_default AS pokemon_1_is_default, pokemon_forms_1.id AS pokemon_forms_1_id, pokemon_forms_1.identifier AS pokemon_forms_1_identifier, pokemon_forms_1.form_identifier AS pokemon_forms_1_form_identifier, pokemon_forms_1.pokemon_id AS pokemon_forms_1_pokemon_id, pokemon_forms_1.introduced_in_version_group_id AS pokemon_forms_1_introduced_in_version_group_id, pokemon_forms_1.is_default AS pokemon_forms_1_is_default, pokemon_forms_1.is_battle_only AS pokemon_forms_1_is_battle_only, pokemon_forms_1.is_mega AS pokemon_forms_1_is_mega, pokemon_forms_1.form_order AS pokemon_forms_1_form_order, pokemon_forms_1.\"order\" AS pokemon_forms_1_order, pokemon_form_names_1.pokemon_form_id AS pokemon_form_names_1_pokemon_form_id, pokemon_form_names_1.local_language_id AS pokemon_form_names_1_local_language_id, pokemon_form_names_1.form_name AS pokemon_form_names_1_form_name, pokemon_form_names_1.pokemon_name AS pokemon_form_names_1_pokemon_name, pokemon_forms_2.id AS pokemon_forms_2_id, pokemon_forms_2.identifier AS pokemon_forms_2_identifier, pokemon_forms_2.form_identifier AS pokemon_forms_2_form_identifier, pokemon_forms_2.pokemon_id AS pokemon_forms_2_pokemon_id, pokemon_forms_2.introduced_in_version_group_id AS pokemon_forms_2_introduced_in_version_group_id, pokemon_forms_2.is_default AS pokemon_forms_2_is_default, pokemon_forms_2.is_battle_only AS pokemon_forms_2_is_battle_only, pokemon_forms_2.is_mega AS pokemon_forms_2_is_mega, pokemon_forms_2.form_order AS pokemon_forms_2_form_order, pokemon_forms_2.\"order\" AS pokemon_forms_2_order, pokemon_form_names_2.pokemon_form_id AS pokemon_form_names_2_pokemon_form_id, pokemon_form_names_2.local_language_id AS pokemon_form_names_2_local_language_id, pokemon_form_names_2.form_name AS pokemon_form_names_2_form_name, pokemon_form_names_2.pokemon_name AS pokemon_form_names_2_pokemon_name, types_1.id AS types_1_id, types_1.identifier AS types_1_identifier, types_1.generation_id AS types_1_generation_id, types_1.damage_class_id AS types_1_damage_class_id, type_names_1.type_id AS type_names_1_type_id, type_names_1.local_language_id AS type_names_1_local_language_id, type_names_1.name AS type_names_1_name \n",
      "FROM pokemon_species LEFT OUTER JOIN pokemon_species_names AS pokemon_species_names_1 ON pokemon_species_names_1.pokemon_species_id = pokemon_species.id AND pokemon_species_names_1.local_language_id = ? LEFT OUTER JOIN (pokemon AS pokemon_1 JOIN pokemon_types AS pokemon_types_1 ON pokemon_1.id = pokemon_types_1.pokemon_id JOIN types AS types_1 ON types_1.id = pokemon_types_1.type_id) ON pokemon_species.id = pokemon_1.species_id AND pokemon_1.is_default = 1 LEFT OUTER JOIN pokemon_forms AS pokemon_forms_1 ON pokemon_1.id = pokemon_forms_1.pokemon_id LEFT OUTER JOIN pokemon_form_names AS pokemon_form_names_1 ON pokemon_form_names_1.pokemon_form_id = pokemon_forms_1.id AND pokemon_form_names_1.local_language_id = ? LEFT OUTER JOIN pokemon_forms AS pokemon_forms_2 ON pokemon_1.id = pokemon_forms_2.pokemon_id AND pokemon_forms_2.is_default = 1 LEFT OUTER JOIN pokemon_form_names AS pokemon_form_names_2 ON pokemon_form_names_2.pokemon_form_id = pokemon_forms_2.id AND pokemon_form_names_2.local_language_id = ? LEFT OUTER JOIN type_names AS type_names_1 ON type_names_1.type_id = types_1.id AND type_names_1.local_language_id = ? \n",
      "WHERE pokemon_species.id = ? ORDER BY pokemon_forms_1.\"order\" ASC, pokemon_forms_1.form_identifier ASC, pokemon_types_1.slot ASC\n",
      "INFO:sqlalchemy.engine.base.Engine:(9, 9, 9, 9, u'387')\n"
     ]
    },
    {
     "data": {
      "text/plain": [
       "<pokedex.db.tables.PokemonSpecies object (387): turtwig>"
      ]
     },
     "execution_count": 16,
     "metadata": {},
     "output_type": "execute_result"
    }
   ],
   "source": [
    "turtwig = lookup.lookup('turtwig')[0].object\n",
    "turtwig"
   ]
  },
  {
   "cell_type": "code",
   "execution_count": 49,
   "metadata": {},
   "outputs": [
    {
     "data": {
      "text/plain": [
       "['__class__',\n",
       " '__delattr__',\n",
       " '__dict__',\n",
       " '__doc__',\n",
       " '__format__',\n",
       " '__getattribute__',\n",
       " '__hash__',\n",
       " '__init__',\n",
       " '__mapper__',\n",
       " '__module__',\n",
       " '__new__',\n",
       " '__reduce__',\n",
       " '__reduce_ex__',\n",
       " '__repr__',\n",
       " '__setattr__',\n",
       " '__singlename__',\n",
       " '__sizeof__',\n",
       " '__str__',\n",
       " '__subclasshook__',\n",
       " '__table__',\n",
       " '__tablename__',\n",
       " '__unicode__',\n",
       " '__weakref__',\n",
       " '_decl_class_registry',\n",
       " '_sa_class_manager',\n",
       " '_sa_instance_state',\n",
       " 'base_happiness',\n",
       " 'capture_rate',\n",
       " 'child_species',\n",
       " 'color',\n",
       " 'color_id',\n",
       " 'conquest_abilities',\n",
       " 'conquest_evolution',\n",
       " 'conquest_max_links',\n",
       " 'conquest_move',\n",
       " 'conquest_order',\n",
       " 'conquest_stats',\n",
       " 'default_form',\n",
       " 'default_pokemon',\n",
       " 'dex_numbers',\n",
       " 'egg_groups',\n",
       " 'evolution_chain',\n",
       " 'evolution_chain_id',\n",
       " 'evolutions',\n",
       " 'evolves_from_species_id',\n",
       " 'flavor_summaries',\n",
       " 'flavor_summaries_local',\n",
       " 'flavor_summaries_table',\n",
       " 'flavor_summary',\n",
       " 'flavor_summary_map',\n",
       " 'flavor_text',\n",
       " 'form_description',\n",
       " 'form_description_map',\n",
       " 'forms',\n",
       " 'forms_switchable',\n",
       " 'gender_rate',\n",
       " 'generation',\n",
       " 'generation_id',\n",
       " 'genus',\n",
       " 'genus_map',\n",
       " 'growth_rate',\n",
       " 'growth_rate_id',\n",
       " 'habitat',\n",
       " 'habitat_id',\n",
       " 'has_gender_differences',\n",
       " 'hatch_counter',\n",
       " 'id',\n",
       " 'identifier',\n",
       " 'is_baby',\n",
       " 'metadata',\n",
       " 'name',\n",
       " 'name_map',\n",
       " 'names',\n",
       " 'names_local',\n",
       " 'names_table',\n",
       " 'order',\n",
       " 'pal_park',\n",
       " 'parent_species',\n",
       " 'pokemon',\n",
       " 'prose',\n",
       " 'prose_local',\n",
       " 'prose_table',\n",
       " 'shape',\n",
       " 'shape_id',\n",
       " 'translation_classes',\n",
       " 'triggered_evolutions']"
      ]
     },
     "execution_count": 49,
     "metadata": {},
     "output_type": "execute_result"
    }
   ],
   "source": [
    "dir(turtwig)"
   ]
  },
  {
   "cell_type": "code",
   "execution_count": 17,
   "metadata": {},
   "outputs": [
    {
     "name": "stderr",
     "output_type": "stream",
     "text": [
      "INFO:sqlalchemy.engine.base.Engine:SELECT pokemon_dex_numbers.species_id AS pokemon_dex_numbers_species_id, pokemon_dex_numbers.pokedex_id AS pokemon_dex_numbers_pokedex_id, pokemon_dex_numbers.pokedex_number AS pokemon_dex_numbers_pokedex_number, pokedexes_1.id AS pokedexes_1_id, pokedexes_1.region_id AS pokedexes_1_region_id, pokedexes_1.identifier AS pokedexes_1_identifier, pokedexes_1.is_main_series AS pokedexes_1_is_main_series, pokedex_prose_1.pokedex_id AS pokedex_prose_1_pokedex_id, pokedex_prose_1.local_language_id AS pokedex_prose_1_local_language_id, pokedex_prose_1.name AS pokedex_prose_1_name, pokedex_prose_1.description AS pokedex_prose_1_description \n",
      "FROM pokemon_dex_numbers JOIN pokedexes AS pokedexes_1 ON pokedexes_1.id = pokemon_dex_numbers.pokedex_id LEFT OUTER JOIN pokedex_prose AS pokedex_prose_1 ON pokedex_prose_1.pokedex_id = pokedexes_1.id AND pokedex_prose_1.local_language_id = ? \n",
      "WHERE ? = pokemon_dex_numbers.species_id ORDER BY pokemon_dex_numbers.pokedex_id ASC\n",
      "INFO:sqlalchemy.engine.base.Engine:(9, 387)\n"
     ]
    },
    {
     "data": {
      "text/plain": [
       "[{'_sa_instance_state': <sqlalchemy.orm.state.InstanceState at 0x10e049d10>,\n",
       "  'pokedex': <pokedex.db.tables.Pokedex object (1): national>,\n",
       "  'pokedex_id': 1,\n",
       "  'pokedex_number': 387,\n",
       "  'species_id': 387},\n",
       " {'_sa_instance_state': <sqlalchemy.orm.state.InstanceState at 0x10e049410>,\n",
       "  'pokedex': <pokedex.db.tables.Pokedex object (5): original-sinnoh>,\n",
       "  'pokedex_id': 5,\n",
       "  'pokedex_number': 1,\n",
       "  'species_id': 387},\n",
       " {'_sa_instance_state': <sqlalchemy.orm.state.InstanceState at 0x10e0f3f90>,\n",
       "  'pokedex': <pokedex.db.tables.Pokedex object (6): extended-sinnoh>,\n",
       "  'pokedex_id': 6,\n",
       "  'pokedex_number': 1,\n",
       "  'species_id': 387}]"
      ]
     },
     "execution_count": 17,
     "metadata": {},
     "output_type": "execute_result"
    }
   ],
   "source": [
    "[x.__dict__ for x in turtwig.dex_numbers]"
   ]
  },
  {
   "cell_type": "code",
   "execution_count": 19,
   "metadata": {},
   "outputs": [
    {
     "name": "stdout",
     "output_type": "stream",
     "text": [
      "Tiny Leaf Pokémon\n"
     ]
    }
   ],
   "source": [
    "print(turtwig.genus)"
   ]
  },
  {
   "cell_type": "code",
   "execution_count": 61,
   "metadata": {},
   "outputs": [
    {
     "data": {
      "text/plain": [
       "['__class__',\n",
       " '__delattr__',\n",
       " '__dict__',\n",
       " '__doc__',\n",
       " '__format__',\n",
       " '__getattribute__',\n",
       " '__hash__',\n",
       " '__init__',\n",
       " '__mapper__',\n",
       " '__module__',\n",
       " '__new__',\n",
       " '__reduce__',\n",
       " '__reduce_ex__',\n",
       " '__repr__',\n",
       " '__setattr__',\n",
       " '__singlename__',\n",
       " '__sizeof__',\n",
       " '__str__',\n",
       " '__subclasshook__',\n",
       " '__table__',\n",
       " '__tablename__',\n",
       " '__unicode__',\n",
       " '__weakref__',\n",
       " '_decl_class_registry',\n",
       " '_sa_class_manager',\n",
       " '_sa_instance_state',\n",
       " 'all_pokemon',\n",
       " 'changelog',\n",
       " 'conquest_pokemon',\n",
       " 'effect',\n",
       " 'effect_map',\n",
       " 'flavor_text',\n",
       " 'generation',\n",
       " 'generation_id',\n",
       " 'hidden_pokemon',\n",
       " 'id',\n",
       " 'identifier',\n",
       " 'is_main_series',\n",
       " 'metadata',\n",
       " 'name',\n",
       " 'name_map',\n",
       " 'names',\n",
       " 'names_local',\n",
       " 'names_table',\n",
       " 'pokemon',\n",
       " 'prose',\n",
       " 'prose_local',\n",
       " 'prose_table',\n",
       " 'short_effect',\n",
       " 'short_effect_map',\n",
       " 'translation_classes']"
      ]
     },
     "execution_count": 61,
     "metadata": {},
     "output_type": "execute_result"
    }
   ],
   "source": [
    "pickup = lookup.lookup('Pickup')[0].object\n",
    "dir(pickup)"
   ]
  },
  {
   "cell_type": "code",
   "execution_count": 65,
   "metadata": {},
   "outputs": [
    {
     "data": {
      "text/plain": [
       "[{'_sa_instance_state': <sqlalchemy.orm.state.InstanceState at 0x10c03af90>,\n",
       "  'ability_id': 53,\n",
       "  'flavor_text': u'May pick up items.',\n",
       "  'language': <pokedex.db.tables.Language object (9): en>,\n",
       "  'language_id': 9,\n",
       "  'version_group_id': 5},\n",
       " {'_sa_instance_state': <sqlalchemy.orm.state.InstanceState at 0x10c03a950>,\n",
       "  'ability_id': 53,\n",
       "  'flavor_text': u'May pick up items.',\n",
       "  'language': <pokedex.db.tables.Language object (9): en>,\n",
       "  'language_id': 9,\n",
       "  'version_group_id': 6},\n",
       " {'_sa_instance_state': <sqlalchemy.orm.state.InstanceState at 0x10c03add0>,\n",
       "  'ability_id': 53,\n",
       "  'flavor_text': u'May pick up items.',\n",
       "  'language': <pokedex.db.tables.Language object (9): en>,\n",
       "  'language_id': 9,\n",
       "  'version_group_id': 7},\n",
       " {'_sa_instance_state': <sqlalchemy.orm.state.InstanceState at 0x10c03a910>,\n",
       "  'ability_id': 53,\n",
       "  'flavor_text': u'The Pok\\xe9mon may pick up\\nitems.',\n",
       "  'language': <pokedex.db.tables.Language object (9): en>,\n",
       "  'language_id': 9,\n",
       "  'version_group_id': 8},\n",
       " {'_sa_instance_state': <sqlalchemy.orm.state.InstanceState at 0x109c82310>,\n",
       "  'ability_id': 53,\n",
       "  'flavor_text': u'The Pok\\xe9mon may pick up\\nitems.',\n",
       "  'language': <pokedex.db.tables.Language object (9): en>,\n",
       "  'language_id': 9,\n",
       "  'version_group_id': 9},\n",
       " {'_sa_instance_state': <sqlalchemy.orm.state.InstanceState at 0x109c82190>,\n",
       "  'ability_id': 53,\n",
       "  'flavor_text': u'The Pok\\xe9mon may\\npick up items.',\n",
       "  'language': <pokedex.db.tables.Language object (9): en>,\n",
       "  'language_id': 9,\n",
       "  'version_group_id': 10},\n",
       " {'_sa_instance_state': <sqlalchemy.orm.state.InstanceState at 0x109c822d0>,\n",
       "  'ability_id': 53,\n",
       "  'flavor_text': u'Permet parfois au Pok\\xe9mon\\nde ramasser des objets.',\n",
       "  'language': <pokedex.db.tables.Language object (5): fr>,\n",
       "  'language_id': 5,\n",
       "  'version_group_id': 11},\n",
       " {'_sa_instance_state': <sqlalchemy.orm.state.InstanceState at 0x109c82150>,\n",
       "  'ability_id': 53,\n",
       "  'flavor_text': u'The Pok\\xe9mon may\\npick up items.',\n",
       "  'language': <pokedex.db.tables.Language object (9): en>,\n",
       "  'language_id': 9,\n",
       "  'version_group_id': 11},\n",
       " {'_sa_instance_state': <sqlalchemy.orm.state.InstanceState at 0x109c82090>,\n",
       "  'ability_id': 53,\n",
       "  'flavor_text': u'The Pok\\xe9mon may\\npick up items.',\n",
       "  'language': <pokedex.db.tables.Language object (9): en>,\n",
       "  'language_id': 9,\n",
       "  'version_group_id': 14},\n",
       " {'_sa_instance_state': <sqlalchemy.orm.state.InstanceState at 0x109c82390>,\n",
       "  'ability_id': 53,\n",
       "  'flavor_text': u'\\u3069\\u3046\\u3050\\u3092\\u3000\\u3072\\u308d\\u3063\\u3066\\u304f\\u308b\\n\\u3053\\u3068\\u304c\\u3000\\u3042\\u308b\\u3002',\n",
       "  'language': <pokedex.db.tables.Language object (1): ja-Hrkt>,\n",
       "  'language_id': 1,\n",
       "  'version_group_id': 15},\n",
       " {'_sa_instance_state': <sqlalchemy.orm.state.InstanceState at 0x109c82410>,\n",
       "  'ability_id': 53,\n",
       "  'flavor_text': u'\\ub3c4\\uad6c\\ub97c \\uc8fc\\uc6cc\\uc62c\\n\\ub54c\\uac00 \\uc788\\ub2e4.',\n",
       "  'language': <pokedex.db.tables.Language object (3): ko>,\n",
       "  'language_id': 3,\n",
       "  'version_group_id': 15},\n",
       " {'_sa_instance_state': <sqlalchemy.orm.state.InstanceState at 0x109c82490>,\n",
       "  'ability_id': 53,\n",
       "  'flavor_text': u'Permet parfois au Pok\\xe9mon de\\nramasser des objets.',\n",
       "  'language': <pokedex.db.tables.Language object (5): fr>,\n",
       "  'language_id': 5,\n",
       "  'version_group_id': 15},\n",
       " {'_sa_instance_state': <sqlalchemy.orm.state.InstanceState at 0x109c82510>,\n",
       "  'ability_id': 53,\n",
       "  'flavor_text': u'Hebt gelegentlich Items auf.',\n",
       "  'language': <pokedex.db.tables.Language object (6): de>,\n",
       "  'language_id': 6,\n",
       "  'version_group_id': 15},\n",
       " {'_sa_instance_state': <sqlalchemy.orm.state.InstanceState at 0x109c82590>,\n",
       "  'ability_id': 53,\n",
       "  'flavor_text': u'El Pok\\xe9mon puede encontrar\\nobjetos.',\n",
       "  'language': <pokedex.db.tables.Language object (7): es>,\n",
       "  'language_id': 7,\n",
       "  'version_group_id': 15},\n",
       " {'_sa_instance_state': <sqlalchemy.orm.state.InstanceState at 0x109c82610>,\n",
       "  'ability_id': 53,\n",
       "  'flavor_text': u'Aumenta la probabilit\\xe0 di trovare\\nstrumenti.',\n",
       "  'language': <pokedex.db.tables.Language object (8): it>,\n",
       "  'language_id': 8,\n",
       "  'version_group_id': 15},\n",
       " {'_sa_instance_state': <sqlalchemy.orm.state.InstanceState at 0x109c82690>,\n",
       "  'ability_id': 53,\n",
       "  'flavor_text': u'The Pok\\xe9mon may\\npick up items.',\n",
       "  'language': <pokedex.db.tables.Language object (9): en>,\n",
       "  'language_id': 9,\n",
       "  'version_group_id': 15},\n",
       " {'_sa_instance_state': <sqlalchemy.orm.state.InstanceState at 0x109c82710>,\n",
       "  'ability_id': 53,\n",
       "  'flavor_text': u'\\u9053\\u5177\\u3092\\u3000\\u62fe\\u3063\\u3066\\u304f\\u308b\\n\\u3053\\u3068\\u304c\\u3000\\u3042\\u308b\\u3002',\n",
       "  'language': <pokedex.db.tables.Language object (11): ja>,\n",
       "  'language_id': 11,\n",
       "  'version_group_id': 15},\n",
       " {'_sa_instance_state': <sqlalchemy.orm.state.InstanceState at 0x109c10250>,\n",
       "  'ability_id': 53,\n",
       "  'flavor_text': u'\\u3069\\u3046\\u3050\\u3092\\u3000\\u3072\\u308d\\u3063\\u3066\\u304f\\u308b\\n\\u3053\\u3068\\u304c\\u3000\\u3042\\u308b\\u3002',\n",
       "  'language': <pokedex.db.tables.Language object (1): ja-Hrkt>,\n",
       "  'language_id': 1,\n",
       "  'version_group_id': 16},\n",
       " {'_sa_instance_state': <sqlalchemy.orm.state.InstanceState at 0x109c77150>,\n",
       "  'ability_id': 53,\n",
       "  'flavor_text': u'\\ub3c4\\uad6c\\ub97c \\uc8fc\\uc6cc\\uc62c\\n\\ub54c\\uac00 \\uc788\\ub2e4.',\n",
       "  'language': <pokedex.db.tables.Language object (3): ko>,\n",
       "  'language_id': 3,\n",
       "  'version_group_id': 16},\n",
       " {'_sa_instance_state': <sqlalchemy.orm.state.InstanceState at 0x109c77bd0>,\n",
       "  'ability_id': 53,\n",
       "  'flavor_text': u'Permet parfois au Pok\\xe9mon de\\nramasser des objets.',\n",
       "  'language': <pokedex.db.tables.Language object (5): fr>,\n",
       "  'language_id': 5,\n",
       "  'version_group_id': 16},\n",
       " {'_sa_instance_state': <sqlalchemy.orm.state.InstanceState at 0x10c042cd0>,\n",
       "  'ability_id': 53,\n",
       "  'flavor_text': u'Hebt gelegentlich Items auf.',\n",
       "  'language': <pokedex.db.tables.Language object (6): de>,\n",
       "  'language_id': 6,\n",
       "  'version_group_id': 16},\n",
       " {'_sa_instance_state': <sqlalchemy.orm.state.InstanceState at 0x109c82750>,\n",
       "  'ability_id': 53,\n",
       "  'flavor_text': u'El Pok\\xe9mon puede encontrar\\nobjetos.',\n",
       "  'language': <pokedex.db.tables.Language object (7): es>,\n",
       "  'language_id': 7,\n",
       "  'version_group_id': 16},\n",
       " {'_sa_instance_state': <sqlalchemy.orm.state.InstanceState at 0x109c827d0>,\n",
       "  'ability_id': 53,\n",
       "  'flavor_text': u'Aumenta la probabilit\\xe0 di trovare\\nstrumenti.',\n",
       "  'language': <pokedex.db.tables.Language object (8): it>,\n",
       "  'language_id': 8,\n",
       "  'version_group_id': 16},\n",
       " {'_sa_instance_state': <sqlalchemy.orm.state.InstanceState at 0x109c82850>,\n",
       "  'ability_id': 53,\n",
       "  'flavor_text': u'The Pok\\xe9mon may\\npick up items.',\n",
       "  'language': <pokedex.db.tables.Language object (9): en>,\n",
       "  'language_id': 9,\n",
       "  'version_group_id': 16},\n",
       " {'_sa_instance_state': <sqlalchemy.orm.state.InstanceState at 0x109c828d0>,\n",
       "  'ability_id': 53,\n",
       "  'flavor_text': u'\\u9053\\u5177\\u3092\\u3000\\u62fe\\u3063\\u3066\\u304f\\u308b\\n\\u3053\\u3068\\u304c\\u3000\\u3042\\u308b\\u3002',\n",
       "  'language': <pokedex.db.tables.Language object (11): ja>,\n",
       "  'language_id': 11,\n",
       "  'version_group_id': 16},\n",
       " {'_sa_instance_state': <sqlalchemy.orm.state.InstanceState at 0x109c82950>,\n",
       "  'ability_id': 53,\n",
       "  'flavor_text': u'\\u3042\\u3044\\u3066\\u306e\\u3000\\u3064\\u304b\\u3063\\u305f\\u3000\\u3069\\u3046\\u3050\\u3092\\n\\u3072\\u308d\\u3063\\u3066\\u304f\\u308b\\u3053\\u3068\\u304c\\u3000\\u3042\\u308b\\u3002\\n\\u307c\\u3046\\u3051\\u3093\\u3061\\u3085\\u3046\\u3082\\u3000\\u3072\\u308d\\u3063\\u3066\\u304f\\u308b\\u3002',\n",
       "  'language': <pokedex.db.tables.Language object (1): ja-Hrkt>,\n",
       "  'language_id': 1,\n",
       "  'version_group_id': 17},\n",
       " {'_sa_instance_state': <sqlalchemy.orm.state.InstanceState at 0x109c829d0>,\n",
       "  'ability_id': 53,\n",
       "  'flavor_text': u'\\uc0c1\\ub300\\uac00 \\uc0ac\\uc6a9\\ud55c \\ub3c4\\uad6c\\ub97c\\n\\uc8fc\\uc6cc\\uc62c \\ub54c\\uac00 \\uc788\\ub2e4.\\n\\ubaa8\\ud5d8 \\uc911\\uc5d0\\ub3c4 \\uc8fc\\uc6cc\\uc628\\ub2e4.',\n",
       "  'language': <pokedex.db.tables.Language object (3): ko>,\n",
       "  'language_id': 3,\n",
       "  'version_group_id': 17},\n",
       " {'_sa_instance_state': <sqlalchemy.orm.state.InstanceState at 0x109c82a50>,\n",
       "  'ability_id': 53,\n",
       "  'flavor_text': u'\\u6709\\u6642\\u6703\\u64bf\\u4f86\\u5c0d\\u624b\\u7528\\u904e\\u7684\\u9053\\u5177\\u3002\\n\\u5192\\u96aa\\u904e\\u7a0b\\u4e2d\\u4e5f\\u6703\\u64bf\\u4f86\\u3002',\n",
       "  'language': <pokedex.db.tables.Language object (4): zh-Hant>,\n",
       "  'language_id': 4,\n",
       "  'version_group_id': 17},\n",
       " {'_sa_instance_state': <sqlalchemy.orm.state.InstanceState at 0x109c82ad0>,\n",
       "  'ability_id': 53,\n",
       "  'flavor_text': u'Permet parfois au Pok\\xe9mon de ramasser les objets\\nque ses ennemis ont utilis\\xe9s. Il lui arrive aussi d\\u2019en\\ntrouver hors des combats.',\n",
       "  'language': <pokedex.db.tables.Language object (5): fr>,\n",
       "  'language_id': 5,\n",
       "  'version_group_id': 17},\n",
       " {'_sa_instance_state': <sqlalchemy.orm.state.InstanceState at 0x109c82b50>,\n",
       "  'ability_id': 53,\n",
       "  'flavor_text': u'Hebt gelegentlich von Gegnern benutzte Items auf.\\nDies geschieht nicht nur w\\xe4hrend K\\xe4mpfen, sondern\\nauch unterwegs.',\n",
       "  'language': <pokedex.db.tables.Language object (6): de>,\n",
       "  'language_id': 6,\n",
       "  'version_group_id': 17},\n",
       " {'_sa_instance_state': <sqlalchemy.orm.state.InstanceState at 0x109c82bd0>,\n",
       "  'ability_id': 53,\n",
       "  'flavor_text': u'El Pok\\xe9mon puede recoger objetos que el rival haya\\nusado, o bien otros que encuentre en plena aventura.',\n",
       "  'language': <pokedex.db.tables.Language object (7): es>,\n",
       "  'language_id': 7,\n",
       "  'version_group_id': 17},\n",
       " {'_sa_instance_state': <sqlalchemy.orm.state.InstanceState at 0x109c82c50>,\n",
       "  'ability_id': 53,\n",
       "  'flavor_text': u'Il Pok\\xe9mon a volte trova lo strumento usato da\\nun nemico durante la lotta. Permette di trovare\\ndegli strumenti anche durante l\\u2019avventura.',\n",
       "  'language': <pokedex.db.tables.Language object (8): it>,\n",
       "  'language_id': 8,\n",
       "  'version_group_id': 17},\n",
       " {'_sa_instance_state': <sqlalchemy.orm.state.InstanceState at 0x109c82cd0>,\n",
       "  'ability_id': 53,\n",
       "  'flavor_text': u'The Pok\\xe9mon may pick up the item an opposing\\nPok\\xe9mon used during a battle. It may pick up items\\noutside of battle, too.',\n",
       "  'language': <pokedex.db.tables.Language object (9): en>,\n",
       "  'language_id': 9,\n",
       "  'version_group_id': 17},\n",
       " {'_sa_instance_state': <sqlalchemy.orm.state.InstanceState at 0x109c82d50>,\n",
       "  'ability_id': 53,\n",
       "  'flavor_text': u'\\u76f8\\u624b\\u306e\\u3000\\u4f7f\\u3063\\u305f\\u3000\\u9053\\u5177\\u3092\\n\\u62fe\\u3063\\u3066\\u304f\\u308b\\u3053\\u3068\\u304c\\u3000\\u3042\\u308b\\u3002\\n\\u5192\\u967a\\u4e2d\\u3082\\u3000\\u62fe\\u3063\\u3066\\u304f\\u308b\\u3002',\n",
       "  'language': <pokedex.db.tables.Language object (11): ja>,\n",
       "  'language_id': 11,\n",
       "  'version_group_id': 17},\n",
       " {'_sa_instance_state': <sqlalchemy.orm.state.InstanceState at 0x109c82dd0>,\n",
       "  'ability_id': 53,\n",
       "  'flavor_text': u'\\u6709\\u65f6\\u4f1a\\u6361\\u6765\\u5bf9\\u624b\\u7528\\u8fc7\\u7684\\u9053\\u5177\\uff0c\\n\\u5192\\u9669\\u8fc7\\u7a0b\\u4e2d\\u4e5f\\u4f1a\\u6361\\u5230\\u3002',\n",
       "  'language': <pokedex.db.tables.Language object (12): zh-Hans>,\n",
       "  'language_id': 12,\n",
       "  'version_group_id': 17},\n",
       " {'_sa_instance_state': <sqlalchemy.orm.state.InstanceState at 0x109c82e50>,\n",
       "  'ability_id': 53,\n",
       "  'flavor_text': u'\\u3042\\u3044\\u3066\\u306e\\u3000\\u3064\\u304b\\u3063\\u305f\\u3000\\u3069\\u3046\\u3050\\u3092\\n\\u3072\\u308d\\u3063\\u3066\\u304f\\u308b\\u3053\\u3068\\u304c\\u3000\\u3042\\u308b\\u3002\\n\\u307c\\u3046\\u3051\\u3093\\u3061\\u3085\\u3046\\u3082\\u3000\\u3072\\u308d\\u3063\\u3066\\u304f\\u308b\\u3002',\n",
       "  'language': <pokedex.db.tables.Language object (1): ja-Hrkt>,\n",
       "  'language_id': 1,\n",
       "  'version_group_id': 18},\n",
       " {'_sa_instance_state': <sqlalchemy.orm.state.InstanceState at 0x109c82ed0>,\n",
       "  'ability_id': 53,\n",
       "  'flavor_text': u'\\uc0c1\\ub300\\uac00 \\uc0ac\\uc6a9\\ud55c \\ub3c4\\uad6c\\ub97c\\n\\uc8fc\\uc6cc\\uc62c \\ub54c\\uac00 \\uc788\\ub2e4.\\n\\ubaa8\\ud5d8 \\uc911\\uc5d0\\ub3c4 \\uc8fc\\uc6cc\\uc628\\ub2e4.',\n",
       "  'language': <pokedex.db.tables.Language object (3): ko>,\n",
       "  'language_id': 3,\n",
       "  'version_group_id': 18},\n",
       " {'_sa_instance_state': <sqlalchemy.orm.state.InstanceState at 0x109c82f50>,\n",
       "  'ability_id': 53,\n",
       "  'flavor_text': u'\\u6709\\u6642\\u6703\\u64bf\\u4f86\\u5c0d\\u624b\\u7528\\u904e\\u7684\\u9053\\u5177\\u3002\\n\\u5192\\u96aa\\u904e\\u7a0b\\u4e2d\\u4e5f\\u6703\\u64bf\\u4f86\\u3002',\n",
       "  'language': <pokedex.db.tables.Language object (4): zh-Hant>,\n",
       "  'language_id': 4,\n",
       "  'version_group_id': 18},\n",
       " {'_sa_instance_state': <sqlalchemy.orm.state.InstanceState at 0x109c82fd0>,\n",
       "  'ability_id': 53,\n",
       "  'flavor_text': u'Permet parfois au Pok\\xe9mon de ramasser les objets\\nque ses ennemis ont utilis\\xe9s. Il lui arrive aussi d\\u2019en\\ntrouver hors des combats.',\n",
       "  'language': <pokedex.db.tables.Language object (5): fr>,\n",
       "  'language_id': 5,\n",
       "  'version_group_id': 18},\n",
       " {'_sa_instance_state': <sqlalchemy.orm.state.InstanceState at 0x109c45090>,\n",
       "  'ability_id': 53,\n",
       "  'flavor_text': u'Hebt gelegentlich von Gegnern benutzte Items auf.\\nDies geschieht nicht nur w\\xe4hrend K\\xe4mpfen, sondern\\nauch unterwegs.',\n",
       "  'language': <pokedex.db.tables.Language object (6): de>,\n",
       "  'language_id': 6,\n",
       "  'version_group_id': 18},\n",
       " {'_sa_instance_state': <sqlalchemy.orm.state.InstanceState at 0x109c45110>,\n",
       "  'ability_id': 53,\n",
       "  'flavor_text': u'El Pok\\xe9mon puede recoger objetos que el rival haya\\nusado, o bien otros que encuentre en plena aventura.',\n",
       "  'language': <pokedex.db.tables.Language object (7): es>,\n",
       "  'language_id': 7,\n",
       "  'version_group_id': 18},\n",
       " {'_sa_instance_state': <sqlalchemy.orm.state.InstanceState at 0x109c45190>,\n",
       "  'ability_id': 53,\n",
       "  'flavor_text': u'Il Pok\\xe9mon a volte trova lo strumento usato da\\nun nemico durante la lotta. Permette di trovare\\ndegli strumenti anche durante l\\u2019avventura.',\n",
       "  'language': <pokedex.db.tables.Language object (8): it>,\n",
       "  'language_id': 8,\n",
       "  'version_group_id': 18},\n",
       " {'_sa_instance_state': <sqlalchemy.orm.state.InstanceState at 0x109c45210>,\n",
       "  'ability_id': 53,\n",
       "  'flavor_text': u'The Pok\\xe9mon may pick up the item an opposing\\nPok\\xe9mon used during a battle. It may pick up items\\noutside of battle, too.',\n",
       "  'language': <pokedex.db.tables.Language object (9): en>,\n",
       "  'language_id': 9,\n",
       "  'version_group_id': 18},\n",
       " {'_sa_instance_state': <sqlalchemy.orm.state.InstanceState at 0x109c45290>,\n",
       "  'ability_id': 53,\n",
       "  'flavor_text': u'\\u76f8\\u624b\\u306e\\u3000\\u4f7f\\u3063\\u305f\\u3000\\u9053\\u5177\\u3092\\n\\u62fe\\u3063\\u3066\\u304f\\u308b\\u3053\\u3068\\u304c\\u3000\\u3042\\u308b\\u3002\\n\\u5192\\u967a\\u4e2d\\u3082\\u3000\\u62fe\\u3063\\u3066\\u304f\\u308b\\u3002',\n",
       "  'language': <pokedex.db.tables.Language object (11): ja>,\n",
       "  'language_id': 11,\n",
       "  'version_group_id': 18},\n",
       " {'_sa_instance_state': <sqlalchemy.orm.state.InstanceState at 0x109c45310>,\n",
       "  'ability_id': 53,\n",
       "  'flavor_text': u'\\u6709\\u65f6\\u4f1a\\u6361\\u6765\\u5bf9\\u624b\\u7528\\u8fc7\\u7684\\u9053\\u5177\\uff0c\\n\\u5192\\u9669\\u8fc7\\u7a0b\\u4e2d\\u4e5f\\u4f1a\\u6361\\u5230\\u3002',\n",
       "  'language': <pokedex.db.tables.Language object (12): zh-Hans>,\n",
       "  'language_id': 12,\n",
       "  'version_group_id': 18}]"
      ]
     },
     "execution_count": 65,
     "metadata": {},
     "output_type": "execute_result"
    }
   ],
   "source": [
    "[x.__dict__ for x in pickup.flavor_text]"
   ]
  },
  {
   "cell_type": "code",
   "execution_count": 21,
   "metadata": {},
   "outputs": [
    {
     "name": "stderr",
     "output_type": "stream",
     "text": [
      "INFO:sqlalchemy.engine.base.Engine:SELECT languages.id AS languages_id, languages.iso639 AS languages_iso639, languages.iso3166 AS languages_iso3166, languages.identifier AS languages_identifier, languages.official AS languages_official, languages.\"order\" AS languages_order \n",
      "FROM languages\n",
      "INFO:sqlalchemy.engine.base.Engine:()\n",
      "INFO:sqlalchemy.engine.base.Engine:SELECT pokemon_species.id AS pokemon_species_id, pokemon_species.identifier AS pokemon_species_identifier, pokemon_species.generation_id AS pokemon_species_generation_id, pokemon_species.evolves_from_species_id AS pokemon_species_evolves_from_species_id, pokemon_species.evolution_chain_id AS pokemon_species_evolution_chain_id, pokemon_species.color_id AS pokemon_species_color_id, pokemon_species.shape_id AS pokemon_species_shape_id, pokemon_species.habitat_id AS pokemon_species_habitat_id, pokemon_species.gender_rate AS pokemon_species_gender_rate, pokemon_species.capture_rate AS pokemon_species_capture_rate, pokemon_species.base_happiness AS pokemon_species_base_happiness, pokemon_species.is_baby AS pokemon_species_is_baby, pokemon_species.hatch_counter AS pokemon_species_hatch_counter, pokemon_species.has_gender_differences AS pokemon_species_has_gender_differences, pokemon_species.growth_rate_id AS pokemon_species_growth_rate_id, pokemon_species.forms_switchable AS pokemon_species_forms_switchable, pokemon_species.\"order\" AS pokemon_species_order, pokemon_species.conquest_order AS pokemon_species_conquest_order, pokemon_species_names_1.pokemon_species_id AS pokemon_species_names_1_pokemon_species_id, pokemon_species_names_1.local_language_id AS pokemon_species_names_1_local_language_id, pokemon_species_names_1.name AS pokemon_species_names_1_name, pokemon_species_names_1.genus AS pokemon_species_names_1_genus, pokemon_1.id AS pokemon_1_id, pokemon_1.identifier AS pokemon_1_identifier, pokemon_1.species_id AS pokemon_1_species_id, pokemon_1.height AS pokemon_1_height, pokemon_1.weight AS pokemon_1_weight, pokemon_1.base_experience AS pokemon_1_base_experience, pokemon_1.\"order\" AS pokemon_1_order, pokemon_1.is_default AS pokemon_1_is_default, pokemon_forms_1.id AS pokemon_forms_1_id, pokemon_forms_1.identifier AS pokemon_forms_1_identifier, pokemon_forms_1.form_identifier AS pokemon_forms_1_form_identifier, pokemon_forms_1.pokemon_id AS pokemon_forms_1_pokemon_id, pokemon_forms_1.introduced_in_version_group_id AS pokemon_forms_1_introduced_in_version_group_id, pokemon_forms_1.is_default AS pokemon_forms_1_is_default, pokemon_forms_1.is_battle_only AS pokemon_forms_1_is_battle_only, pokemon_forms_1.is_mega AS pokemon_forms_1_is_mega, pokemon_forms_1.form_order AS pokemon_forms_1_form_order, pokemon_forms_1.\"order\" AS pokemon_forms_1_order, pokemon_form_names_1.pokemon_form_id AS pokemon_form_names_1_pokemon_form_id, pokemon_form_names_1.local_language_id AS pokemon_form_names_1_local_language_id, pokemon_form_names_1.form_name AS pokemon_form_names_1_form_name, pokemon_form_names_1.pokemon_name AS pokemon_form_names_1_pokemon_name, pokemon_forms_2.id AS pokemon_forms_2_id, pokemon_forms_2.identifier AS pokemon_forms_2_identifier, pokemon_forms_2.form_identifier AS pokemon_forms_2_form_identifier, pokemon_forms_2.pokemon_id AS pokemon_forms_2_pokemon_id, pokemon_forms_2.introduced_in_version_group_id AS pokemon_forms_2_introduced_in_version_group_id, pokemon_forms_2.is_default AS pokemon_forms_2_is_default, pokemon_forms_2.is_battle_only AS pokemon_forms_2_is_battle_only, pokemon_forms_2.is_mega AS pokemon_forms_2_is_mega, pokemon_forms_2.form_order AS pokemon_forms_2_form_order, pokemon_forms_2.\"order\" AS pokemon_forms_2_order, pokemon_form_names_2.pokemon_form_id AS pokemon_form_names_2_pokemon_form_id, pokemon_form_names_2.local_language_id AS pokemon_form_names_2_local_language_id, pokemon_form_names_2.form_name AS pokemon_form_names_2_form_name, pokemon_form_names_2.pokemon_name AS pokemon_form_names_2_pokemon_name, types_1.id AS types_1_id, types_1.identifier AS types_1_identifier, types_1.generation_id AS types_1_generation_id, types_1.damage_class_id AS types_1_damage_class_id, type_names_1.type_id AS type_names_1_type_id, type_names_1.local_language_id AS type_names_1_local_language_id, type_names_1.name AS type_names_1_name \n",
      "FROM pokemon_species LEFT OUTER JOIN pokemon_species_names AS pokemon_species_names_1 ON pokemon_species_names_1.pokemon_species_id = pokemon_species.id AND pokemon_species_names_1.local_language_id = ? LEFT OUTER JOIN (pokemon AS pokemon_1 JOIN pokemon_types AS pokemon_types_1 ON pokemon_1.id = pokemon_types_1.pokemon_id JOIN types AS types_1 ON types_1.id = pokemon_types_1.type_id) ON pokemon_species.id = pokemon_1.species_id AND pokemon_1.is_default = 1 LEFT OUTER JOIN pokemon_forms AS pokemon_forms_1 ON pokemon_1.id = pokemon_forms_1.pokemon_id LEFT OUTER JOIN pokemon_form_names AS pokemon_form_names_1 ON pokemon_form_names_1.pokemon_form_id = pokemon_forms_1.id AND pokemon_form_names_1.local_language_id = ? LEFT OUTER JOIN pokemon_forms AS pokemon_forms_2 ON pokemon_1.id = pokemon_forms_2.pokemon_id AND pokemon_forms_2.is_default = 1 LEFT OUTER JOIN pokemon_form_names AS pokemon_form_names_2 ON pokemon_form_names_2.pokemon_form_id = pokemon_forms_2.id AND pokemon_form_names_2.local_language_id = ? LEFT OUTER JOIN type_names AS type_names_1 ON type_names_1.type_id = types_1.id AND type_names_1.local_language_id = ? \n",
      "WHERE pokemon_species.id = ? ORDER BY pokemon_forms_1.\"order\" ASC, pokemon_forms_1.form_identifier ASC, pokemon_types_1.slot ASC\n",
      "INFO:sqlalchemy.engine.base.Engine:(9, 9, 9, 9, u'389')\n"
     ]
    },
    {
     "data": {
      "text/plain": [
       "{'_sa_instance_state': <sqlalchemy.orm.state.InstanceState at 0x10eda8590>,\n",
       " 'base_happiness': 70,\n",
       " 'capture_rate': 45,\n",
       " 'color_id': 5,\n",
       " 'conquest_order': None,\n",
       " 'default_pokemon': <pokedex.db.tables.Pokemon object (389): torterra>,\n",
       " 'evolution_chain_id': 203,\n",
       " 'evolves_from_species_id': 388,\n",
       " 'forms_switchable': False,\n",
       " 'gender_rate': 1,\n",
       " 'generation_id': 4,\n",
       " 'growth_rate_id': 4,\n",
       " 'habitat_id': None,\n",
       " 'has_gender_differences': False,\n",
       " 'hatch_counter': 20,\n",
       " 'id': 389,\n",
       " 'identifier': u'torterra',\n",
       " 'is_baby': False,\n",
       " 'names_local': <pokedex.db.multilang.pokemon_species_names at 0x10eda8690>,\n",
       " 'order': 419,\n",
       " 'shape_id': 8}"
      ]
     },
     "execution_count": 21,
     "metadata": {},
     "output_type": "execute_result"
    }
   ],
   "source": [
    "torterra = lookup.lookup('torterra')[0].object\n",
    "torterra.__dict__"
   ]
  },
  {
   "cell_type": "code",
   "execution_count": 22,
   "metadata": {},
   "outputs": [
    {
     "data": {
      "text/plain": [
       "['__class__',\n",
       " '__delattr__',\n",
       " '__dict__',\n",
       " '__doc__',\n",
       " '__format__',\n",
       " '__getattribute__',\n",
       " '__hash__',\n",
       " '__init__',\n",
       " '__mapper__',\n",
       " '__module__',\n",
       " '__new__',\n",
       " '__reduce__',\n",
       " '__reduce_ex__',\n",
       " '__repr__',\n",
       " '__setattr__',\n",
       " '__singlename__',\n",
       " '__sizeof__',\n",
       " '__str__',\n",
       " '__subclasshook__',\n",
       " '__table__',\n",
       " '__tablename__',\n",
       " '__unicode__',\n",
       " '__weakref__',\n",
       " '_decl_class_registry',\n",
       " '_sa_class_manager',\n",
       " '_sa_instance_state',\n",
       " 'base_happiness',\n",
       " 'capture_rate',\n",
       " 'child_species',\n",
       " 'color',\n",
       " 'color_id',\n",
       " 'conquest_abilities',\n",
       " 'conquest_evolution',\n",
       " 'conquest_max_links',\n",
       " 'conquest_move',\n",
       " 'conquest_order',\n",
       " 'conquest_stats',\n",
       " 'default_form',\n",
       " 'default_pokemon',\n",
       " 'dex_numbers',\n",
       " 'egg_groups',\n",
       " 'evolution_chain',\n",
       " 'evolution_chain_id',\n",
       " 'evolutions',\n",
       " 'evolves_from_species_id',\n",
       " 'flavor_summaries',\n",
       " 'flavor_summaries_local',\n",
       " 'flavor_summaries_table',\n",
       " 'flavor_summary',\n",
       " 'flavor_summary_map',\n",
       " 'flavor_text',\n",
       " 'form_description',\n",
       " 'form_description_map',\n",
       " 'forms',\n",
       " 'forms_switchable',\n",
       " 'gender_rate',\n",
       " 'generation',\n",
       " 'generation_id',\n",
       " 'genus',\n",
       " 'genus_map',\n",
       " 'growth_rate',\n",
       " 'growth_rate_id',\n",
       " 'habitat',\n",
       " 'habitat_id',\n",
       " 'has_gender_differences',\n",
       " 'hatch_counter',\n",
       " 'id',\n",
       " 'identifier',\n",
       " 'is_baby',\n",
       " 'metadata',\n",
       " 'name',\n",
       " 'name_map',\n",
       " 'names',\n",
       " 'names_local',\n",
       " 'names_table',\n",
       " 'order',\n",
       " 'pal_park',\n",
       " 'parent_species',\n",
       " 'pokemon',\n",
       " 'prose',\n",
       " 'prose_local',\n",
       " 'prose_table',\n",
       " 'shape',\n",
       " 'shape_id',\n",
       " 'translation_classes',\n",
       " 'triggered_evolutions']"
      ]
     },
     "execution_count": 22,
     "metadata": {},
     "output_type": "execute_result"
    }
   ],
   "source": [
    "dir(torterra)"
   ]
  },
  {
   "cell_type": "code",
   "execution_count": 23,
   "metadata": {},
   "outputs": [
    {
     "name": "stderr",
     "output_type": "stream",
     "text": [
      "INFO:sqlalchemy.engine.base.Engine:SELECT pokemon_species_flavor_text.species_id AS pokemon_species_flavor_text_species_id, pokemon_species_flavor_text.version_id AS pokemon_species_flavor_text_version_id, pokemon_species_flavor_text.language_id AS pokemon_species_flavor_text_language_id, pokemon_species_flavor_text.flavor_text AS pokemon_species_flavor_text_flavor_text, versions_1.id AS versions_1_id, versions_1.version_group_id AS versions_1_version_group_id, versions_1.identifier AS versions_1_identifier, version_names_1.version_id AS version_names_1_version_id, version_names_1.local_language_id AS version_names_1_local_language_id, version_names_1.name AS version_names_1_name, version_groups_1.id AS version_groups_1_id, version_groups_1.identifier AS version_groups_1_identifier, version_groups_1.generation_id AS version_groups_1_generation_id, version_groups_1.\"order\" AS version_groups_1_order, generations_1.id AS generations_1_id, generations_1.main_region_id AS generations_1_main_region_id, generations_1.identifier AS generations_1_identifier, generation_names_1.generation_id AS generation_names_1_generation_id, generation_names_1.local_language_id AS generation_names_1_local_language_id, generation_names_1.name AS generation_names_1_name, languages_1.id AS languages_1_id, languages_1.iso639 AS languages_1_iso639, languages_1.iso3166 AS languages_1_iso3166, languages_1.identifier AS languages_1_identifier, languages_1.official AS languages_1_official, languages_1.\"order\" AS languages_1_order \n",
      "FROM pokemon_species_flavor_text JOIN versions AS versions_1 ON versions_1.id = pokemon_species_flavor_text.version_id LEFT OUTER JOIN version_names AS version_names_1 ON version_names_1.version_id = versions_1.id AND version_names_1.local_language_id = ? LEFT OUTER JOIN (version_groups AS version_groups_1 JOIN generations AS generations_1 ON generations_1.id = version_groups_1.generation_id) ON version_groups_1.id = versions_1.version_group_id LEFT OUTER JOIN generation_names AS generation_names_1 ON generation_names_1.generation_id = generations_1.id AND generation_names_1.local_language_id = ? JOIN languages AS languages_1 ON languages_1.id = pokemon_species_flavor_text.language_id \n",
      "WHERE ? = pokemon_species_flavor_text.species_id ORDER BY pokemon_species_flavor_text.version_id ASC\n",
      "INFO:sqlalchemy.engine.base.Engine:(9, 9, 389)\n"
     ]
    },
    {
     "name": "stdout",
     "output_type": "stream",
     "text": [
      "Small Pokémon occasionally gather\n",
      "on its unmoving back to begin\n",
      "building their nests.\n",
      "---\n",
      "Groups of this Pokémon migrating\n",
      "in search of water have been\n",
      "mistaken for “moving forests.”\n",
      "---\n",
      "Some Pokémon are born on a\n",
      "TORTERRA’s back and spend their\n",
      "entire life there.\n",
      "---\n",
      "Ancient people imagined that\n",
      "beneath the ground, a gigantic\n",
      "TORTERRA dwelled.\n",
      "---\n",
      "Ancient people imagined that\n",
      "beneath the ground, a gigantic\n",
      "TORTERRA dwelled.\n",
      "---\n",
      "Some Pokémon are born on a\n",
      "Torterra’s back and spend their\n",
      "entire life there.\n",
      "---\n",
      "Some Pokémon are born on a\n",
      "Torterra’s back and spend their\n",
      "entire life there.\n",
      "---\n",
      "Some Pokémon are born on a\n",
      "Torterra’s back and spend their\n",
      "entire life there.\n",
      "---\n",
      "Some Pokémon are born on a\n",
      "Torterra’s back and spend their\n",
      "entire life there.\n",
      "---\n",
      "Ancient people imagined that beneath the ground,\n",
      "a gigantic Torterra dwelled.\n",
      "---\n",
      "Small Pokémon occasionally gather on its unmoving\n",
      "back to begin building their nests.\n",
      "---\n",
      "Ancient people imagined that beneath the ground,\n",
      "a gigantic Torterra dwelled.\n",
      "---\n",
      "Small Pokémon occasionally gather on its unmoving\n",
      "back to begin building their nests.\n",
      "---\n"
     ]
    }
   ],
   "source": [
    "for s in [x.flavor_text for x in torterra.flavor_text if x.language_id == 9]:\n",
    "    print s\n",
    "    print '---'"
   ]
  },
  {
   "cell_type": "code",
   "execution_count": 76,
   "metadata": {},
   "outputs": [
    {
     "name": "stdout",
     "output_type": "stream",
     "text": [
      "Continent Pokémon\n"
     ]
    }
   ],
   "source": [
    "print(torterra.genus)"
   ]
  },
  {
   "cell_type": "code",
   "execution_count": 6,
   "metadata": {},
   "outputs": [
    {
     "name": "stderr",
     "output_type": "stream",
     "text": [
      "INFO:sqlalchemy.engine.base.Engine:SELECT encounters.id AS encounters_id, encounters.version_id AS encounters_version_id, encounters.location_area_id AS encounters_location_area_id, encounters.encounter_slot_id AS encounters_encounter_slot_id, encounters.pokemon_id AS encounters_pokemon_id, encounters.min_level AS encounters_min_level, encounters.max_level AS encounters_max_level, location_areas_1.id AS location_areas_1_id, location_areas_1.location_id AS location_areas_1_location_id, location_areas_1.game_index AS location_areas_1_game_index, location_areas_1.identifier AS location_areas_1_identifier, location_area_prose_1.location_area_id AS location_area_prose_1_location_area_id, location_area_prose_1.local_language_id AS location_area_prose_1_local_language_id, location_area_prose_1.name AS location_area_prose_1_name, locations_1.id AS locations_1_id, locations_1.region_id AS locations_1_region_id, locations_1.identifier AS locations_1_identifier, location_names_1.location_id AS location_names_1_location_id, location_names_1.local_language_id AS location_names_1_local_language_id, location_names_1.name AS location_names_1_name, location_names_1.subtitle AS location_names_1_subtitle, pokemon_1.id AS pokemon_1_id, pokemon_1.identifier AS pokemon_1_identifier, pokemon_1.species_id AS pokemon_1_species_id, pokemon_1.height AS pokemon_1_height, pokemon_1.weight AS pokemon_1_weight, pokemon_1.base_experience AS pokemon_1_base_experience, pokemon_1.\"order\" AS pokemon_1_order, pokemon_1.is_default AS pokemon_1_is_default, pokemon_forms_1.id AS pokemon_forms_1_id, pokemon_forms_1.identifier AS pokemon_forms_1_identifier, pokemon_forms_1.form_identifier AS pokemon_forms_1_form_identifier, pokemon_forms_1.pokemon_id AS pokemon_forms_1_pokemon_id, pokemon_forms_1.introduced_in_version_group_id AS pokemon_forms_1_introduced_in_version_group_id, pokemon_forms_1.is_default AS pokemon_forms_1_is_default, pokemon_forms_1.is_battle_only AS pokemon_forms_1_is_battle_only, pokemon_forms_1.is_mega AS pokemon_forms_1_is_mega, pokemon_forms_1.form_order AS pokemon_forms_1_form_order, pokemon_forms_1.\"order\" AS pokemon_forms_1_order, pokemon_form_names_1.pokemon_form_id AS pokemon_form_names_1_pokemon_form_id, pokemon_form_names_1.local_language_id AS pokemon_form_names_1_local_language_id, pokemon_form_names_1.form_name AS pokemon_form_names_1_form_name, pokemon_form_names_1.pokemon_name AS pokemon_form_names_1_pokemon_name, pokemon_forms_2.id AS pokemon_forms_2_id, pokemon_forms_2.identifier AS pokemon_forms_2_identifier, pokemon_forms_2.form_identifier AS pokemon_forms_2_form_identifier, pokemon_forms_2.pokemon_id AS pokemon_forms_2_pokemon_id, pokemon_forms_2.introduced_in_version_group_id AS pokemon_forms_2_introduced_in_version_group_id, pokemon_forms_2.is_default AS pokemon_forms_2_is_default, pokemon_forms_2.is_battle_only AS pokemon_forms_2_is_battle_only, pokemon_forms_2.is_mega AS pokemon_forms_2_is_mega, pokemon_forms_2.form_order AS pokemon_forms_2_form_order, pokemon_forms_2.\"order\" AS pokemon_forms_2_order, pokemon_form_names_2.pokemon_form_id AS pokemon_form_names_2_pokemon_form_id, pokemon_form_names_2.local_language_id AS pokemon_form_names_2_local_language_id, pokemon_form_names_2.form_name AS pokemon_form_names_2_form_name, pokemon_form_names_2.pokemon_name AS pokemon_form_names_2_pokemon_name, types_1.id AS types_1_id, types_1.identifier AS types_1_identifier, types_1.generation_id AS types_1_generation_id, types_1.damage_class_id AS types_1_damage_class_id, type_names_1.type_id AS type_names_1_type_id, type_names_1.local_language_id AS type_names_1_local_language_id, type_names_1.name AS type_names_1_name, versions_1.id AS versions_1_id, versions_1.version_group_id AS versions_1_version_group_id, versions_1.identifier AS versions_1_identifier, version_names_1.version_id AS version_names_1_version_id, version_names_1.local_language_id AS version_names_1_local_language_id, version_names_1.name AS version_names_1_name, version_groups_1.id AS version_groups_1_id, version_groups_1.identifier AS version_groups_1_identifier, version_groups_1.generation_id AS version_groups_1_generation_id, version_groups_1.\"order\" AS version_groups_1_order, generations_1.id AS generations_1_id, generations_1.main_region_id AS generations_1_main_region_id, generations_1.identifier AS generations_1_identifier, generation_names_1.generation_id AS generation_names_1_generation_id, generation_names_1.local_language_id AS generation_names_1_local_language_id, generation_names_1.name AS generation_names_1_name, encounter_slots_1.id AS encounter_slots_1_id, encounter_slots_1.version_group_id AS encounter_slots_1_version_group_id, encounter_slots_1.encounter_method_id AS encounter_slots_1_encounter_method_id, encounter_slots_1.slot AS encounter_slots_1_slot, encounter_slots_1.rarity AS encounter_slots_1_rarity, encounter_methods_1.id AS encounter_methods_1_id, encounter_methods_1.identifier AS encounter_methods_1_identifier, encounter_methods_1.\"order\" AS encounter_methods_1_order \n",
      "FROM encounters JOIN location_areas ON location_areas.id = encounters.location_area_id JOIN locations ON locations.id = location_areas.location_id JOIN location_areas AS location_areas_1 ON location_areas_1.id = encounters.location_area_id LEFT OUTER JOIN location_area_prose AS location_area_prose_1 ON location_area_prose_1.location_area_id = location_areas_1.id AND location_area_prose_1.local_language_id = ? JOIN locations AS locations_1 ON locations_1.id = location_areas_1.location_id LEFT OUTER JOIN location_names AS location_names_1 ON location_names_1.location_id = locations_1.id AND location_names_1.local_language_id = ? JOIN pokemon AS pokemon_1 ON pokemon_1.id = encounters.pokemon_id LEFT OUTER JOIN pokemon_forms AS pokemon_forms_1 ON pokemon_1.id = pokemon_forms_1.pokemon_id LEFT OUTER JOIN pokemon_form_names AS pokemon_form_names_1 ON pokemon_form_names_1.pokemon_form_id = pokemon_forms_1.id AND pokemon_form_names_1.local_language_id = ? LEFT OUTER JOIN pokemon_forms AS pokemon_forms_2 ON pokemon_1.id = pokemon_forms_2.pokemon_id AND pokemon_forms_2.is_default = 1 LEFT OUTER JOIN pokemon_form_names AS pokemon_form_names_2 ON pokemon_form_names_2.pokemon_form_id = pokemon_forms_2.id AND pokemon_form_names_2.local_language_id = ? JOIN pokemon_types AS pokemon_types_1 ON pokemon_1.id = pokemon_types_1.pokemon_id JOIN types AS types_1 ON types_1.id = pokemon_types_1.type_id LEFT OUTER JOIN type_names AS type_names_1 ON type_names_1.type_id = types_1.id AND type_names_1.local_language_id = ? JOIN versions AS versions_1 ON versions_1.id = encounters.version_id LEFT OUTER JOIN version_names AS version_names_1 ON version_names_1.version_id = versions_1.id AND version_names_1.local_language_id = ? LEFT OUTER JOIN (version_groups AS version_groups_1 JOIN generations AS generations_1 ON generations_1.id = version_groups_1.generation_id) ON version_groups_1.id = versions_1.version_group_id LEFT OUTER JOIN generation_names AS generation_names_1 ON generation_names_1.generation_id = generations_1.id AND generation_names_1.local_language_id = ? JOIN encounter_slots AS encounter_slots_1 ON encounter_slots_1.id = encounters.encounter_slot_id JOIN encounter_methods AS encounter_methods_1 ON encounter_methods_1.id = encounter_slots_1.encounter_method_id \n",
      "WHERE encounters.pokemon_id = ? GROUP BY location_areas.location_id, encounters.version_id ORDER BY pokemon_forms_1.\"order\" ASC, pokemon_forms_1.form_identifier ASC, pokemon_types_1.slot ASC\n",
      "INFO:sqlalchemy.engine.base.Engine:(9, 9, 9, 9, 9, 9, 9, 113)\n"
     ]
    },
    {
     "data": {
      "text/plain": [
       "[('Route 209', 'Diamond'),\n",
       " ('Route 209', 'Pearl'),\n",
       " ('Route 209', 'Platinum'),\n",
       " ('Route 210', 'Diamond'),\n",
       " ('Route 210', 'Pearl'),\n",
       " ('Route 210', 'Platinum'),\n",
       " ('Route 13', 'HeartGold'),\n",
       " ('Route 13', 'SoulSilver'),\n",
       " ('Route 14', 'HeartGold'),\n",
       " ('Route 14', 'SoulSilver'),\n",
       " ('Route 15', 'HeartGold'),\n",
       " ('Route 15', 'SoulSilver'),\n",
       " ('Cerulean Cave', 'Red'),\n",
       " ('Cerulean Cave', 'Blue'),\n",
       " ('Cerulean Cave', 'Yellow'),\n",
       " ('Safari Zone', 'Red'),\n",
       " ('Safari Zone', 'Blue'),\n",
       " ('Safari Zone', 'Yellow'),\n",
       " ('Safari Zone', 'FireRed'),\n",
       " ('Safari Zone', 'LeafGreen')]"
      ]
     },
     "execution_count": 6,
     "metadata": {},
     "output_type": "execute_result"
    }
   ],
   "source": [
    "encounters = session.query(tables.Encounter)\\\n",
    ".join(tables.LocationArea).join(tables.Location)\\\n",
    ".filter(tables.Encounter.pokemon_id == 113)\\\n",
    ".group_by(tables.LocationArea.location_id, tables.Encounter.version_id)\n",
    "[(e.location_area.location.names_local.name, e.version.names_local.name) for e in encounters]"
   ]
  },
  {
   "cell_type": "code",
   "execution_count": null,
   "metadata": {},
   "outputs": [],
   "source": []
  }
 ],
 "metadata": {
  "kernelspec": {
   "display_name": "Python 3",
   "language": "python",
   "name": "python3"
  },
  "language_info": {
   "codemirror_mode": {
    "name": "ipython",
    "version": 3
   },
   "file_extension": ".py",
   "mimetype": "text/x-python",
   "name": "python",
   "nbconvert_exporter": "python",
   "pygments_lexer": "ipython3",
   "version": "3.7.2"
  }
 },
 "nbformat": 4,
 "nbformat_minor": 2
}
